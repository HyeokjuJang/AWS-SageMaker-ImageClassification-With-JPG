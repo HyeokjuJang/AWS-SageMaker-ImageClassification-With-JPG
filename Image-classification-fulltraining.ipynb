{
 "cells": [
  {
   "cell_type": "markdown",
   "metadata": {},
   "source": [
    "# End-to-End Multiclass Image Classification Example\n",
    "\n",
    "1. [Introduction](#Introduction)\n",
    "2. [Prerequisites and Preprocessing](#Prequisites-and-Preprocessing)\n",
    "  1. [Permissions and environment variables](#Permissions-and-environment-variables)\n",
    "3. [Training the ResNet model](#Training-the-ResNet-model)\n",
    "4. [Deploy The Model](#Deploy-the-model)\n",
    "  1. [Create model](#Create-model)\n",
    "  2. [Batch transform](#Batch-transform)\n",
    "  3. [Realtime inference](#Realtime-inference)\n",
    "    1. [Create endpoint configuration](#Create-endpoint-configuration) \n",
    "    2. [Create endpoint](#Create-endpoint) \n",
    "    3. [Perform inference](#Perform-inference) \n",
    "    4. [Clean up](#Clean-up)\n"
   ]
  },
  {
   "cell_type": "markdown",
   "metadata": {},
   "source": [
    "## Introduction\n",
    "\n",
    "Welcome to our end-to-end example of distributed image classification algorithm. In this demo, we will use the Amazon sagemaker image classification algorithm to train on the [caltech-256 dataset](http://www.vision.caltech.edu/Image_Datasets/Caltech256/). \n",
    "\n",
    "To get started, we need to set up the environment with a few prerequisite steps, for permissions, configurations, and so on."
   ]
  },
  {
   "cell_type": "markdown",
   "metadata": {},
   "source": [
    "## Prequisites and Preprocessing\n",
    "\n",
    "### Permissions and environment variables\n",
    "\n",
    "Here we set up the linkage and authentication to AWS services. There are three parts to this:\n",
    "\n",
    "* The roles used to give learning and hosting access to your data. This will automatically be obtained from the role used to start the notebook\n",
    "* The S3 bucket that you want to use for training and model data\n",
    "* The Amazon sagemaker image classification docker image which need not be changed"
   ]
  },
  {
   "cell_type": "code",
   "execution_count": 2,
   "metadata": {},
   "outputs": [
    {
     "name": "stdout",
     "output_type": "stream",
     "text": [
      "CPU times: user 69.4 ms, sys: 0 ns, total: 69.4 ms\n",
      "Wall time: 92.7 ms\n"
     ]
    }
   ],
   "source": [
    "%%time\n",
    "import boto3\n",
    "import re\n",
    "from sagemaker import get_execution_role\n",
    "from sagemaker.amazon.amazon_estimator import get_image_uri\n",
    "\n",
    "role = get_execution_role()\n",
    "\n",
    "bucket='sagemaker-moon-vase' # customize to your bucket\n",
    "\n",
    "training_image = get_image_uri(boto3.Session().region_name, 'image-classification')"
   ]
  },
  {
   "cell_type": "markdown",
   "metadata": {},
   "source": [
    "## Make REC File from jpg"
   ]
  },
  {
   "cell_type": "code",
   "execution_count": 3,
   "metadata": {},
   "outputs": [],
   "source": [
    "import mxnet as mx\n",
    "%matplotlib inline\n",
    "import os\n",
    "import sys\n",
    "import subprocess\n",
    "import numpy as np\n",
    "import matplotlib.pyplot as plt\n",
    "import tarfile\n",
    "\n",
    "import warnings\n",
    "warnings.filterwarnings(\"ignore\", category=DeprecationWarning)"
   ]
  },
  {
   "cell_type": "code",
   "execution_count": 25,
   "metadata": {},
   "outputs": [],
   "source": [
    "fname = mx.test_utils.download(url='https://s3.ap-northeast-2.amazonaws.com/sagemaker-moon-vase/moon_vase.tar', dirname='data', overwrite=False)\n",
    "tar = tarfile.open(fname)\n",
    "tar.extractall(path=os.path.join('.','data'))\n",
    "tar.close()"
   ]
  },
  {
   "cell_type": "code",
   "execution_count": 28,
   "metadata": {},
   "outputs": [
    {
     "name": "stdout",
     "output_type": "stream",
     "text": [
      "test  train\r\n"
     ]
    }
   ],
   "source": [
    "!ls data"
   ]
  },
  {
   "cell_type": "code",
   "execution_count": 32,
   "metadata": {},
   "outputs": [],
   "source": [
    "im2rec_path = mx.test_utils.get_im2rec_path()\n",
    "data_path = os.path.join('data','moon_vase','test')\n",
    "prefix_path = os.path.join('data','vase_test')\n",
    "\n",
    "with open(os.devnull, 'wb') as devnull:\n",
    "    subprocess.check_call(['python', im2rec_path, '--list', '--recursive', prefix_path, data_path],\n",
    "                          stdout=devnull)\n",
    "with open(os.devnull, 'wb') as devnull:\n",
    "    subprocess.check_call(['python', im2rec_path, '--num-thread=4','--resize=224', '--pass-through', prefix_path, data_path],\n",
    "                          stdout=devnull)"
   ]
  },
  {
   "cell_type": "code",
   "execution_count": 33,
   "metadata": {},
   "outputs": [],
   "source": [
    "im2rec_path = mx.test_utils.get_im2rec_path()\n",
    "data_path = os.path.join('data','moon_vase','train')\n",
    "prefix_path = os.path.join('data','vase_train')\n",
    "\n",
    "with open(os.devnull, 'wb') as devnull:\n",
    "    subprocess.check_call(['python', im2rec_path, '--list', '--recursive', prefix_path, data_path],\n",
    "                          stdout=devnull)\n",
    "with open(os.devnull, 'wb') as devnull:\n",
    "    subprocess.check_call(['python', im2rec_path, '--num-thread=4','--resize=224', '--pass-through', prefix_path, data_path],\n",
    "                          stdout=devnull)"
   ]
  },
  {
   "cell_type": "code",
   "execution_count": 40,
   "metadata": {},
   "outputs": [
    {
     "name": "stdout",
     "output_type": "stream",
     "text": [
      "moon_vase      vase_test.idx  vase_train.idx\n",
      "moon_vase.tar  vase_test.lst  vase_train.lst\n",
      "mv: cannot stat ‘data/vase_train.rec’: No such file or directory\n",
      "mv: cannot stat ‘data/vase_test.rec’: No such file or directory\n",
      "moon_vase      vase_test.idx  vase_train.idx\n",
      "moon_vase.tar  vase_test.lst  vase_train.lst\n"
     ]
    }
   ],
   "source": [
    "!ls data\n",
    "!mv data/vase_train.rec .\n",
    "!mv data/vase_test.rec .\n",
    "!ls data"
   ]
  },
  {
   "cell_type": "markdown",
   "metadata": {},
   "source": [
    "### Data preparation\n",
    "Download the data and transfer to S3 for use in training."
   ]
  },
  {
   "cell_type": "code",
   "execution_count": 41,
   "metadata": {},
   "outputs": [],
   "source": [
    "import os \n",
    "import urllib.request\n",
    "import boto3\n",
    "\n",
    "def download(url):\n",
    "    filename = url.split(\"/\")[-1]\n",
    "    if not os.path.exists(filename):\n",
    "        urllib.request.urlretrieve(url, filename)\n",
    "\n",
    "        \n",
    "def upload_to_s3(channel, file):\n",
    "    s3 = boto3.resource('s3')\n",
    "    data = open(file, \"rb\")\n",
    "    key = channel + '/' + file\n",
    "    s3.Bucket(bucket).put_object(Key=key, Body=data)\n",
    "\n",
    "\n",
    "# caltech-256\n",
    "s3_train_key = \"image-classification-full-training/train\"\n",
    "s3_validation_key = \"image-classification-full-training/validation\"\n",
    "s3_train = 's3://{}/{}/'.format(bucket, s3_train_key)\n",
    "s3_validation = 's3://{}/{}/'.format(bucket, s3_validation_key)\n",
    "\n",
    "#download('http://data.mxnet.io/data/caltech-256/caltech-256-60-train.rec')\n",
    "upload_to_s3(s3_train_key, 'vase_train.rec')\n",
    "#download('http://data.mxnet.io/data/caltech-256/caltech-256-60-val.rec')\n",
    "upload_to_s3(s3_validation_key, 'vase_test.rec')"
   ]
  },
  {
   "cell_type": "markdown",
   "metadata": {},
   "source": [
    "## Training the ResNet model\n",
    "\n",
    "In this demo, we are using [Caltech-256](http://www.vision.caltech.edu/Image_Datasets/Caltech256/) dataset, which contains 30608 images of 256 objects. For the training and validation data, we follow the splitting scheme in this MXNet [example](https://github.com/apache/incubator-mxnet/blob/master/example/image-classification/data/caltech256.sh). In particular, it randomly selects 60 images per class for training, and uses the remaining data for validation. The algorithm takes `RecordIO` file as input. The user can also provide the image files as input, which will be converted into `RecordIO` format using MXNet's [im2rec](https://mxnet.incubator.apache.org/how_to/recordio.html?highlight=im2rec) tool. It takes around 50 seconds to converted the entire Caltech-256 dataset (~1.2GB) on a p2.xlarge instance. However, for this demo, we will use record io format. \n",
    "\n",
    "Once we have the data available in the correct format for training, the next step is to actually train the model using the data. After setting training parameters, we kick off training, and poll for status until training is completed.\n",
    "\n",
    "## Training parameters\n",
    "There are two kinds of parameters that need to be set for training. The first one are the parameters for the training job. These include:\n",
    "\n",
    "* **Input specification**: These are the training and validation channels that specify the path where training data is present. These are specified in the \"InputDataConfig\" section. The main parameters that need to be set is the \"ContentType\" which can be set to \"rec\" or \"lst\" based on the input data format and the S3Uri which specifies the bucket and the folder where the data is present. \n",
    "* **Output specification**: This is specified in the \"OutputDataConfig\" section. We just need to specify the path where the output can be stored after training\n",
    "* **Resource config**: This section specifies the type of instance on which to run the training and the number of hosts used for training. If \"InstanceCount\" is more than 1, then training can be run in a distributed manner. \n",
    "\n",
    "Apart from the above set of parameters, there are hyperparameters that are specific to the algorithm. These are:\n",
    "\n",
    "* **num_layers**: The number of layers (depth) for the network. We use 101 in this samples but other values such as 50, 152 can be used. \n",
    "* **num_training_samples**: This is the total number of training samples. It is set to 15420 for caltech dataset with the current split\n",
    "* **num_classes**: This is the number of output classes for the new dataset. Imagenet was trained with 1000 output classes but the number of output classes can be changed for fine-tuning. For caltech, we use 257 because it has 256 object categories + 1 clutter class\n",
    "* **epochs**: Number of training epochs\n",
    "* **learning_rate**: Learning rate for training\n",
    "* **mini_batch_size**: The number of training samples used for each mini batch. In distributed training, the number of training samples used per batch will be N * mini_batch_size where N is the number of hosts on which training is run"
   ]
  },
  {
   "cell_type": "markdown",
   "metadata": {},
   "source": [
    "After setting training parameters, we kick off training, and poll for status until training is completed, which in this example, takes between 10 to 12 minutes per epoch on a p2.xlarge machine. The network typically converges after 10 epochs. However, to save the training time, we set the epochs to 2 but please keep in mind that it may not be  sufficient to generate a good model. "
   ]
  },
  {
   "cell_type": "code",
   "execution_count": 60,
   "metadata": {},
   "outputs": [],
   "source": [
    "# The algorithm supports multiple network depth (number of layers). They are 18, 34, 50, 101, 152 and 200\n",
    "# For this training, we will use 18 layers\n",
    "num_layers = \"18\" \n",
    "# we need to specify the input image shape for the training data\n",
    "image_shape = \"3,224,224\"\n",
    "# we also need to specify the number of training samples in the training set\n",
    "# for caltech it is 15420\n",
    "num_training_samples = \"320\"\n",
    "# specify the number of output classes\n",
    "num_classes = \"2\"\n",
    "# batch size for training\n",
    "mini_batch_size =  \"7\"\n",
    "# number of epochs\n",
    "epochs = \"20\"\n",
    "# learning rate\n",
    "learning_rate = \"0.01\""
   ]
  },
  {
   "cell_type": "markdown",
   "metadata": {},
   "source": [
    "# Training\n",
    "Run the training using Amazon sagemaker CreateTrainingJob API"
   ]
  },
  {
   "cell_type": "code",
   "execution_count": 61,
   "metadata": {
    "scrolled": true
   },
   "outputs": [
    {
     "name": "stdout",
     "output_type": "stream",
     "text": [
      "Training job name: DEMO-imageclassification-2019-03-24-07-07-49\n",
      "\n",
      "Input Data Location: {'S3DataType': 'S3Prefix', 'S3Uri': 's3://sagemaker-moon-vase/image-classification-full-training/train/', 'S3DataDistributionType': 'FullyReplicated'}\n",
      "CPU times: user 5.33 ms, sys: 112 µs, total: 5.45 ms\n",
      "Wall time: 5.15 ms\n"
     ]
    }
   ],
   "source": [
    "%%time\n",
    "import time\n",
    "import boto3\n",
    "from time import gmtime, strftime\n",
    "\n",
    "\n",
    "s3 = boto3.client('s3')\n",
    "# create unique job name \n",
    "job_name_prefix = 'DEMO-imageclassification'\n",
    "timestamp = time.strftime('-%Y-%m-%d-%H-%M-%S', time.gmtime())\n",
    "job_name = job_name_prefix + timestamp\n",
    "training_params = \\\n",
    "{\n",
    "    # specify the training docker image\n",
    "    \"AlgorithmSpecification\": {\n",
    "        \"TrainingImage\": training_image,\n",
    "        \"TrainingInputMode\": \"File\"\n",
    "    },\n",
    "    \"RoleArn\": role,\n",
    "    \"OutputDataConfig\": {\n",
    "        \"S3OutputPath\": 's3://{}/{}/output'.format(bucket, job_name_prefix)\n",
    "    },\n",
    "    \"ResourceConfig\": {\n",
    "        \"InstanceCount\": 1,\n",
    "        \"InstanceType\": \"ml.p2.xlarge\",\n",
    "        \"VolumeSizeInGB\": 50\n",
    "    },\n",
    "    \"TrainingJobName\": job_name,\n",
    "    \"HyperParameters\": {\n",
    "        \"image_shape\": image_shape,\n",
    "        \"num_layers\": str(num_layers),\n",
    "        \"num_training_samples\": str(num_training_samples),\n",
    "        \"num_classes\": str(num_classes),\n",
    "        \"mini_batch_size\": str(mini_batch_size),\n",
    "        \"epochs\": str(epochs),\n",
    "        \"learning_rate\": str(learning_rate)\n",
    "    },\n",
    "    \"StoppingCondition\": {\n",
    "        \"MaxRuntimeInSeconds\": 360000\n",
    "    },\n",
    "#Training data should be inside a subdirectory called \"train\"\n",
    "#Validation data should be inside a subdirectory called \"validation\"\n",
    "#The algorithm currently only supports fullyreplicated model (where data is copied onto each machine)\n",
    "    \"InputDataConfig\": [\n",
    "        {\n",
    "            \"ChannelName\": \"train\",\n",
    "            \"DataSource\": {\n",
    "                \"S3DataSource\": {\n",
    "                    \"S3DataType\": \"S3Prefix\",\n",
    "                    \"S3Uri\": s3_train,\n",
    "                    \"S3DataDistributionType\": \"FullyReplicated\"\n",
    "                }\n",
    "            },\n",
    "            \"ContentType\": \"application/x-recordio\",\n",
    "            \"CompressionType\": \"None\"\n",
    "        },\n",
    "        {\n",
    "            \"ChannelName\": \"validation\",\n",
    "            \"DataSource\": {\n",
    "                \"S3DataSource\": {\n",
    "                    \"S3DataType\": \"S3Prefix\",\n",
    "                    \"S3Uri\": s3_validation,\n",
    "                    \"S3DataDistributionType\": \"FullyReplicated\"\n",
    "                }\n",
    "            },\n",
    "            \"ContentType\": \"application/x-recordio\",\n",
    "            \"CompressionType\": \"None\"\n",
    "        }\n",
    "    ]\n",
    "}\n",
    "print('Training job name: {}'.format(job_name))\n",
    "print('\\nInput Data Location: {}'.format(training_params['InputDataConfig'][0]['DataSource']['S3DataSource']))"
   ]
  },
  {
   "cell_type": "code",
   "execution_count": null,
   "metadata": {},
   "outputs": [
    {
     "name": "stdout",
     "output_type": "stream",
     "text": [
      "Training job current status: InProgress\n"
     ]
    }
   ],
   "source": [
    "# create the Amazon SageMaker training job\n",
    "sagemaker = boto3.client(service_name='sagemaker')\n",
    "sagemaker.create_training_job(**training_params)\n",
    "\n",
    "# confirm that the training job has started\n",
    "status = sagemaker.describe_training_job(TrainingJobName=job_name)['TrainingJobStatus']\n",
    "print('Training job current status: {}'.format(status))\n",
    "\n",
    "try:\n",
    "    # wait for the job to finish and report the ending status\n",
    "    sagemaker.get_waiter('training_job_completed_or_stopped').wait(TrainingJobName=job_name)\n",
    "    training_info = sagemaker.describe_training_job(TrainingJobName=job_name)\n",
    "    status = training_info['TrainingJobStatus']\n",
    "    print(\"Training job ended with status: \" + status)\n",
    "except:\n",
    "    print('Training failed to start')\n",
    "     # if exception is raised, that means it has failed\n",
    "    message = sagemaker.describe_training_job(TrainingJobName=job_name)['FailureReason']\n",
    "    print('Training failed with the following error: {}'.format(message))"
   ]
  },
  {
   "cell_type": "code",
   "execution_count": 45,
   "metadata": {},
   "outputs": [
    {
     "name": "stdout",
     "output_type": "stream",
     "text": [
      "Training job ended with status: Completed\n"
     ]
    }
   ],
   "source": [
    "training_info = sagemaker.describe_training_job(TrainingJobName=job_name)\n",
    "status = training_info['TrainingJobStatus']\n",
    "print(\"Training job ended with status: \" + status)"
   ]
  },
  {
   "cell_type": "markdown",
   "metadata": {},
   "source": [
    "If you see the message,\n",
    "\n",
    "> `Training job ended with status: Completed`\n",
    "\n",
    "then that means training successfully completed and the output model was stored in the output path specified by `training_params['OutputDataConfig']`.\n",
    "\n",
    "You can also view information about and the status of a training job using the AWS SageMaker console. Just click on the \"Jobs\" tab."
   ]
  },
  {
   "cell_type": "markdown",
   "metadata": {},
   "source": [
    "# Deploy The Model\n",
    "\n",
    "***\n",
    "\n",
    "A trained model does nothing on its own. We now want to use the model to perform inference. For this example, that means predicting the topic mixture representing a given document.\n",
    "\n",
    "This section involves several steps,\n",
    "\n",
    "1. [Create Model](#CreateModel) - Create model for the training output\n",
    "1. [Batch Transform](#BatchTransform) - Create a transform job to perform batch inference.\n",
    "1. [Host the model for realtime inference](#HostTheModel) - Create an inference endpoint and perform realtime inference."
   ]
  },
  {
   "cell_type": "markdown",
   "metadata": {},
   "source": [
    "## Create Model\n",
    "\n",
    "We now create a SageMaker Model from the training output. Using the model we can create a Batch Transform Job or an Endpoint Configuration."
   ]
  },
  {
   "cell_type": "code",
   "execution_count": 46,
   "metadata": {},
   "outputs": [
    {
     "name": "stdout",
     "output_type": "stream",
     "text": [
      "DEMO-full-image-classification-model\n",
      "s3://sagemaker-moon-vase/DEMO-imageclassification/output/DEMO-imageclassification-2019-03-24-06-29-42/output/model.tar.gz\n",
      "arn:aws:sagemaker:ap-northeast-2:102788916356:model/demo-full-image-classification-model\n",
      "CPU times: user 69.2 ms, sys: 0 ns, total: 69.2 ms\n",
      "Wall time: 385 ms\n"
     ]
    }
   ],
   "source": [
    "%%time\n",
    "import boto3\n",
    "from time import gmtime, strftime\n",
    "\n",
    "sage = boto3.Session().client(service_name='sagemaker') \n",
    "\n",
    "model_name=\"DEMO-full-image-classification-model\"\n",
    "print(model_name)\n",
    "info = sage.describe_training_job(TrainingJobName=job_name)\n",
    "model_data = info['ModelArtifacts']['S3ModelArtifacts']\n",
    "print(model_data)\n",
    "\n",
    "hosting_image = get_image_uri(boto3.Session().region_name, 'image-classification')\n",
    "\n",
    "primary_container = {\n",
    "    'Image': hosting_image,\n",
    "    'ModelDataUrl': model_data,\n",
    "}\n",
    "\n",
    "create_model_response = sage.create_model(\n",
    "    ModelName = model_name,\n",
    "    ExecutionRoleArn = role,\n",
    "    PrimaryContainer = primary_container)\n",
    "\n",
    "print(create_model_response['ModelArn'])"
   ]
  },
  {
   "cell_type": "markdown",
   "metadata": {},
   "source": [
    "### Batch transform\n",
    "\n",
    "We now create a SageMaker Batch Transform job using the model created above to perform batch prediction."
   ]
  },
  {
   "cell_type": "markdown",
   "metadata": {},
   "source": [
    "#### Download test data"
   ]
  },
  {
   "cell_type": "code",
   "execution_count": 52,
   "metadata": {},
   "outputs": [
    {
     "name": "stdout",
     "output_type": "stream",
     "text": [
      "Completed 7.7 KiB/7.7 KiB (79.0 KiB/s) with 1 file(s) remaining\r",
      "upload: data/vase_train.lst to s3://sagemaker-moon-vase/image-classification-full-training/test/vase_train.lst\r\n"
     ]
    }
   ],
   "source": [
    "batch_input = 's3://{}/image-classification-full-training/test/'.format(bucket)\n",
    "test_images = '/tmp/images/008.bathtub'\n",
    "\n",
    "!aws s3 cp $test_images $batch_input --recursive --quiet "
   ]
  },
  {
   "cell_type": "code",
   "execution_count": 49,
   "metadata": {},
   "outputs": [
    {
     "name": "stdout",
     "output_type": "stream",
     "text": [
      "Transform job name: image-classification-model-2019-03-24-06-42-20\n",
      "\n",
      "Input Data Location: s3://sagemaker-moon-vase/image-classification-full-training/validation/\n"
     ]
    }
   ],
   "source": [
    "timestamp = time.strftime('-%Y-%m-%d-%H-%M-%S', time.gmtime())\n",
    "batch_job_name = \"image-classification-model\" + timestamp\n",
    "request = \\\n",
    "{\n",
    "    \"TransformJobName\": batch_job_name,\n",
    "    \"ModelName\": model_name,\n",
    "    \"MaxConcurrentTransforms\": 16,\n",
    "    \"MaxPayloadInMB\": 6,\n",
    "    \"BatchStrategy\": \"SingleRecord\",\n",
    "    \"TransformOutput\": {\n",
    "        \"S3OutputPath\": 's3://{}/{}/output'.format(bucket, batch_job_name)\n",
    "    },\n",
    "    \"TransformInput\": {\n",
    "        \"DataSource\": {\n",
    "            \"S3DataSource\": {\n",
    "                \"S3DataType\": \"S3Prefix\",\n",
    "                \"S3Uri\": batch_input\n",
    "            }\n",
    "        },\n",
    "        \"ContentType\": \"application/x-image\",\n",
    "        \"SplitType\": \"None\",\n",
    "        \"CompressionType\": \"None\"\n",
    "    },\n",
    "    \"TransformResources\": {\n",
    "            \"InstanceType\": \"ml.p2.xlarge\",\n",
    "            \"InstanceCount\": 1\n",
    "    }\n",
    "}\n",
    "\n",
    "print('Transform job name: {}'.format(batch_job_name))\n",
    "print('\\nInput Data Location: {}'.format(s3_validation))"
   ]
  },
  {
   "cell_type": "code",
   "execution_count": 50,
   "metadata": {},
   "outputs": [
    {
     "name": "stdout",
     "output_type": "stream",
     "text": [
      "Created Transform job with name:  image-classification-model-2019-03-24-06-42-20\n",
      "Transform job ended with status: Completed\n"
     ]
    }
   ],
   "source": [
    "sagemaker = boto3.client('sagemaker')\n",
    "sagemaker.create_transform_job(**request)\n",
    "\n",
    "print(\"Created Transform job with name: \", batch_job_name)\n",
    "\n",
    "while(True):\n",
    "    response = sagemaker.describe_transform_job(TransformJobName=batch_job_name)\n",
    "    status = response['TransformJobStatus']\n",
    "    if status == 'Completed':\n",
    "        print(\"Transform job ended with status: \" + status)\n",
    "        break\n",
    "    if status == 'Failed':\n",
    "        message = response['FailureReason']\n",
    "        print('Transform failed with the following error: {}'.format(message))\n",
    "        raise Exception('Transform job failed') \n",
    "    time.sleep(30)  "
   ]
  },
  {
   "cell_type": "markdown",
   "metadata": {},
   "source": [
    "After the job completes, let's inspect the prediction results. The accuracy may not be quite good because we set the epochs to 2 during training which may not be sufficient to train a good model. "
   ]
  },
  {
   "cell_type": "code",
   "execution_count": 53,
   "metadata": {},
   "outputs": [
    {
     "name": "stdout",
     "output_type": "stream",
     "text": [
      "Sample inputs: ['image-classification-full-training/test/400.jpg', 'image-classification-full-training/test/vase_train.lst']\n",
      "Sample output: ['image-classification-model-2019-03-24-06-42-20/output/400.jpg.out']\n",
      "Result: label - not, probability - 1.0\n"
     ]
    },
    {
     "data": {
      "text/plain": [
       "[('not', 1.0)]"
      ]
     },
     "execution_count": 53,
     "metadata": {},
     "output_type": "execute_result"
    }
   ],
   "source": [
    "from urllib.parse import urlparse\n",
    "import json\n",
    "import numpy as np\n",
    "\n",
    "s3_client = boto3.client('s3')\n",
    "object_categories = ['jar', 'not']\n",
    "\n",
    "def list_objects(s3_client, bucket, prefix):\n",
    "    response = s3_client.list_objects(Bucket=bucket, Prefix=prefix)\n",
    "    objects = [content['Key'] for content in response['Contents']]\n",
    "    return objects\n",
    "\n",
    "def get_label(s3_client, bucket, prefix):\n",
    "    filename = prefix.split('/')[-1]\n",
    "    s3_client.download_file(bucket, prefix, filename)\n",
    "    with open(filename) as f:\n",
    "        data = json.load(f)\n",
    "        index = np.argmax(data['prediction'])\n",
    "        probability = data['prediction'][index]\n",
    "    print(\"Result: label - \" + object_categories[index] + \", probability - \" + str(probability))\n",
    "    return object_categories[index], probability\n",
    "\n",
    "inputs = list_objects(s3_client, bucket, urlparse(batch_input).path.lstrip('/'))\n",
    "print(\"Sample inputs: \" + str(inputs[:2]))\n",
    "\n",
    "outputs = list_objects(s3_client, bucket, batch_job_name + \"/output\")\n",
    "print(\"Sample output: \" + str(outputs[:2]))\n",
    "\n",
    "# Check prediction result of the first 2 images\n",
    "[get_label(s3_client, bucket, prefix) for prefix in outputs[0:1]]"
   ]
  },
  {
   "cell_type": "markdown",
   "metadata": {},
   "source": [
    "### Realtime inference\n",
    "\n",
    "We now host the model with an endpoint and perform realtime inference.\n",
    "\n",
    "This section involves several steps,\n",
    "1. [Create endpoint configuration](#CreateEndpointConfiguration) - Create a configuration defining an endpoint.\n",
    "1. [Create endpoint](#CreateEndpoint) - Use the configuration to create an inference endpoint.\n",
    "1. [Perform inference](#PerformInference) - Perform inference on some input data using the endpoint.\n",
    "1. [Clean up](#CleanUp) - Delete the endpoint and model"
   ]
  },
  {
   "cell_type": "markdown",
   "metadata": {},
   "source": [
    "#### Create Endpoint Configuration\n",
    "At launch, we will support configuring REST endpoints in hosting with multiple models, e.g. for A/B testing purposes. In order to support this, customers create an endpoint configuration, that describes the distribution of traffic across the models, whether split, shadowed, or sampled in some way.\n",
    "\n",
    "In addition, the endpoint configuration describes the instance type required for model deployment, and at launch will describe the autoscaling configuration."
   ]
  },
  {
   "cell_type": "code",
   "execution_count": 54,
   "metadata": {},
   "outputs": [
    {
     "name": "stdout",
     "output_type": "stream",
     "text": [
      "Endpoint configuration name: DEMO-imageclassification-epc--2019-03-24-06-51-07\n",
      "Endpoint configuration arn:  arn:aws:sagemaker:ap-northeast-2:102788916356:endpoint-config/demo-imageclassification-epc--2019-03-24-06-51-07\n"
     ]
    }
   ],
   "source": [
    "from time import gmtime, strftime\n",
    "\n",
    "timestamp = time.strftime('-%Y-%m-%d-%H-%M-%S', time.gmtime())\n",
    "endpoint_config_name = job_name_prefix + '-epc-' + timestamp\n",
    "endpoint_config_response = sage.create_endpoint_config(\n",
    "    EndpointConfigName = endpoint_config_name,\n",
    "    ProductionVariants=[{\n",
    "        'InstanceType':'ml.m4.xlarge',\n",
    "        'InitialInstanceCount':1,\n",
    "        'ModelName':model_name,\n",
    "        'VariantName':'AllTraffic'}])\n",
    "\n",
    "print('Endpoint configuration name: {}'.format(endpoint_config_name))\n",
    "print('Endpoint configuration arn:  {}'.format(endpoint_config_response['EndpointConfigArn']))"
   ]
  },
  {
   "cell_type": "markdown",
   "metadata": {},
   "source": [
    "#### Create Endpoint\n",
    "Next, the customer creates the endpoint that serves up the model, through specifying the name and configuration defined above. The end result is an endpoint that can be validated and incorporated into production applications. This takes 9-11 minutes to complete."
   ]
  },
  {
   "cell_type": "code",
   "execution_count": 55,
   "metadata": {},
   "outputs": [
    {
     "name": "stdout",
     "output_type": "stream",
     "text": [
      "Endpoint name: DEMO-imageclassification-ep--2019-03-24-06-51-14\n",
      "EndpointArn = arn:aws:sagemaker:ap-northeast-2:102788916356:endpoint/demo-imageclassification-ep--2019-03-24-06-51-14\n",
      "CPU times: user 6 ms, sys: 9.58 ms, total: 15.6 ms\n",
      "Wall time: 236 ms\n"
     ]
    }
   ],
   "source": [
    "%%time\n",
    "import time\n",
    "\n",
    "timestamp = time.strftime('-%Y-%m-%d-%H-%M-%S', time.gmtime())\n",
    "endpoint_name = job_name_prefix + '-ep-' + timestamp\n",
    "print('Endpoint name: {}'.format(endpoint_name))\n",
    "\n",
    "endpoint_params = {\n",
    "    'EndpointName': endpoint_name,\n",
    "    'EndpointConfigName': endpoint_config_name,\n",
    "}\n",
    "endpoint_response = sagemaker.create_endpoint(**endpoint_params)\n",
    "print('EndpointArn = {}'.format(endpoint_response['EndpointArn']))"
   ]
  },
  {
   "cell_type": "markdown",
   "metadata": {},
   "source": [
    "Now the endpoint can be created. It may take sometime to create the endpoint..."
   ]
  },
  {
   "cell_type": "code",
   "execution_count": 56,
   "metadata": {},
   "outputs": [
    {
     "name": "stdout",
     "output_type": "stream",
     "text": [
      "EndpointStatus = Creating\n",
      "Endpoint creation ended with EndpointStatus = InService\n"
     ]
    }
   ],
   "source": [
    "# get the status of the endpoint\n",
    "response = sagemaker.describe_endpoint(EndpointName=endpoint_name)\n",
    "status = response['EndpointStatus']\n",
    "print('EndpointStatus = {}'.format(status))\n",
    "\n",
    "\n",
    "# wait until the status has changed\n",
    "sagemaker.get_waiter('endpoint_in_service').wait(EndpointName=endpoint_name)\n",
    "\n",
    "\n",
    "# print the status of the endpoint\n",
    "endpoint_response = sagemaker.describe_endpoint(EndpointName=endpoint_name)\n",
    "status = endpoint_response['EndpointStatus']\n",
    "print('Endpoint creation ended with EndpointStatus = {}'.format(status))\n",
    "\n",
    "if status != 'InService':\n",
    "    raise Exception('Endpoint creation failed.')"
   ]
  },
  {
   "cell_type": "markdown",
   "metadata": {},
   "source": [
    "If you see the message,\n",
    "\n",
    "> `Endpoint creation ended with EndpointStatus = InService`\n",
    "\n",
    "then congratulations! You now have a functioning inference endpoint. You can confirm the endpoint configuration and status by navigating to the \"Endpoints\" tab in the AWS SageMaker console.\n",
    "\n",
    "We will finally create a runtime object from which we can invoke the endpoint."
   ]
  },
  {
   "cell_type": "markdown",
   "metadata": {},
   "source": [
    "#### Perform Inference\n",
    "Finally, the customer can now validate the model for use. They can obtain the endpoint from the client library using the result from previous operations, and generate classifications from the trained model using that endpoint.\n"
   ]
  },
  {
   "cell_type": "code",
   "execution_count": 57,
   "metadata": {},
   "outputs": [],
   "source": [
    "import boto3\n",
    "runtime = boto3.Session().client(service_name='runtime.sagemaker') "
   ]
  },
  {
   "cell_type": "markdown",
   "metadata": {},
   "source": [
    "##### Download test image"
   ]
  },
  {
   "cell_type": "code",
   "execution_count": null,
   "metadata": {
    "collapsed": true
   },
   "outputs": [],
   "source": [
    "!wget -O /tmp/test.jpg http://www.vision.caltech.edu/Image_Datasets/Caltech256/images/008.bathtub/008_0007.jpg\n",
    "file_name = '/tmp/test.jpg'\n",
    "# test image\n",
    "from IPython.display import Image\n",
    "Image(file_name)  "
   ]
  },
  {
   "cell_type": "markdown",
   "metadata": {},
   "source": [
    "##### Evaluation\n",
    "\n",
    "Evaluate the image through the network for inteference. The network outputs class probabilities and typically, one selects the class with the maximum probability as the final class output.\n",
    "\n",
    "**Note:** The output class detected by the network may not be accurate in this example. To limit the time taken and cost of training, we have trained the model only for a couple of epochs. If the network is trained for more epochs (say 20), then the output class will be more accurate."
   ]
  },
  {
   "cell_type": "code",
   "execution_count": 59,
   "metadata": {},
   "outputs": [
    {
     "name": "stdout",
     "output_type": "stream",
     "text": [
      "Result: label - not, probability - 1.0\n",
      "Result: label - not, probability - 1.0\n",
      "Result: label - not, probability - 1.0\n",
      "Result: label - not, probability - 1.0\n",
      "Result: label - not, probability - 1.0\n",
      "Result: label - not, probability - 1.0\n",
      "Result: label - not, probability - 1.0\n",
      "Result: label - not, probability - 1.0\n",
      "Result: label - not, probability - 1.0\n",
      "Result: label - not, probability - 1.0\n",
      "Result: label - not, probability - 1.0\n",
      "Result: label - not, probability - 1.0\n",
      "Result: label - not, probability - 1.0\n",
      "Result: label - not, probability - 1.0\n",
      "Result: label - not, probability - 1.0\n",
      "Result: label - not, probability - 1.0\n",
      "Result: label - not, probability - 1.0\n",
      "Result: label - not, probability - 1.0\n",
      "Result: label - not, probability - 1.0\n",
      "Result: label - not, probability - 1.0\n",
      "Result: label - not, probability - 1.0\n",
      "Result: label - not, probability - 1.0\n",
      "Result: label - not, probability - 1.0\n",
      "Result: label - not, probability - 1.0\n",
      "Result: label - not, probability - 1.0\n",
      "Result: label - not, probability - 1.0\n",
      "Result: label - not, probability - 1.0\n",
      "Result: label - not, probability - 1.0\n",
      "Result: label - not, probability - 1.0\n",
      "Result: label - not, probability - 1.0\n",
      "Result: label - not, probability - 1.0\n",
      "Result: label - not, probability - 1.0\n",
      "Result: label - not, probability - 1.0\n",
      "Result: label - not, probability - 1.0\n",
      "Result: label - not, probability - 1.0\n",
      "Result: label - not, probability - 1.0\n",
      "Result: label - not, probability - 1.0\n",
      "Result: label - not, probability - 1.0\n",
      "Result: label - not, probability - 1.0\n",
      "Result: label - not, probability - 1.0\n",
      "Result: label - not, probability - 1.0\n",
      "Result: label - not, probability - 1.0\n",
      "Result: label - not, probability - 1.0\n",
      "Result: label - not, probability - 1.0\n",
      "Result: label - not, probability - 1.0\n",
      "Result: label - not, probability - 1.0\n",
      "Result: label - not, probability - 1.0\n",
      "Result: label - not, probability - 1.0\n",
      "Result: label - not, probability - 1.0\n",
      "Result: label - not, probability - 1.0\n",
      "Result: label - not, probability - 1.0\n",
      "Result: label - not, probability - 1.0\n",
      "Result: label - not, probability - 1.0\n",
      "Result: label - not, probability - 1.0\n",
      "Result: label - not, probability - 1.0\n",
      "Result: label - not, probability - 1.0\n",
      "Result: label - not, probability - 1.0\n",
      "Result: label - not, probability - 1.0\n",
      "Result: label - not, probability - 1.0\n",
      "Result: label - not, probability - 1.0\n",
      "Result: label - not, probability - 1.0\n",
      "Result: label - not, probability - 1.0\n",
      "Result: label - not, probability - 1.0\n",
      "Result: label - not, probability - 1.0\n",
      "Result: label - not, probability - 1.0\n",
      "Result: label - not, probability - 1.0\n",
      "Result: label - not, probability - 1.0\n",
      "Result: label - not, probability - 1.0\n",
      "Result: label - not, probability - 1.0\n",
      "Result: label - not, probability - 1.0\n",
      "Result: label - not, probability - 1.0\n",
      "Result: label - not, probability - 1.0\n",
      "Result: label - not, probability - 1.0\n",
      "Result: label - not, probability - 1.0\n",
      "Result: label - not, probability - 1.0\n",
      "Result: label - not, probability - 1.0\n",
      "Result: label - not, probability - 1.0\n",
      "Result: label - not, probability - 1.0\n",
      "Result: label - not, probability - 1.0\n",
      "Result: label - not, probability - 1.0\n",
      "Result: label - not, probability - 1.0\n",
      "Result: label - not, probability - 1.0\n",
      "Result: label - not, probability - 1.0\n",
      "Result: label - not, probability - 1.0\n",
      "Result: label - not, probability - 1.0\n",
      "Result: label - not, probability - 1.0\n",
      "Result: label - not, probability - 1.0\n",
      "Result: label - not, probability - 1.0\n",
      "Result: label - not, probability - 1.0\n",
      "Result: label - not, probability - 1.0\n",
      "Result: label - not, probability - 1.0\n",
      "Result: label - not, probability - 1.0\n",
      "Result: label - not, probability - 1.0\n",
      "Result: label - not, probability - 1.0\n",
      "Result: label - not, probability - 1.0\n",
      "Result: label - not, probability - 1.0\n",
      "Result: label - not, probability - 1.0\n",
      "Result: label - not, probability - 1.0\n",
      "Result: label - not, probability - 1.0\n",
      "Result: label - not, probability - 1.0\n",
      "Result: label - not, probability - 1.0\n",
      "Result: label - not, probability - 1.0\n",
      "Result: label - not, probability - 1.0\n",
      "Result: label - not, probability - 1.0\n",
      "Result: label - not, probability - 1.0\n",
      "Result: label - not, probability - 1.0\n",
      "Result: label - not, probability - 1.0\n",
      "Result: label - not, probability - 1.0\n",
      "Result: label - not, probability - 1.0\n",
      "Result: label - not, probability - 1.0\n",
      "Result: label - not, probability - 1.0\n",
      "Result: label - not, probability - 1.0\n",
      "Result: label - not, probability - 1.0\n",
      "Result: label - not, probability - 1.0\n",
      "Result: label - not, probability - 1.0\n",
      "Result: label - not, probability - 1.0\n",
      "Result: label - not, probability - 1.0\n",
      "Result: label - not, probability - 1.0\n",
      "Result: label - not, probability - 1.0\n",
      "Result: label - not, probability - 1.0\n",
      "Result: label - not, probability - 1.0\n",
      "Result: label - not, probability - 1.0\n",
      "Result: label - not, probability - 1.0\n",
      "Result: label - not, probability - 1.0\n",
      "Result: label - not, probability - 1.0\n",
      "Result: label - not, probability - 1.0\n",
      "Result: label - not, probability - 1.0\n",
      "Result: label - not, probability - 1.0\n",
      "Result: label - not, probability - 1.0\n",
      "Result: label - not, probability - 1.0\n",
      "Result: label - not, probability - 1.0\n",
      "Result: label - not, probability - 1.0\n",
      "Result: label - not, probability - 1.0\n",
      "Result: label - not, probability - 1.0\n",
      "Result: label - not, probability - 1.0\n",
      "Result: label - not, probability - 1.0\n",
      "Result: label - not, probability - 1.0\n",
      "Result: label - not, probability - 1.0\n",
      "Result: label - not, probability - 1.0\n",
      "Result: label - not, probability - 1.0\n",
      "Result: label - not, probability - 1.0\n",
      "Result: label - not, probability - 1.0\n",
      "Result: label - not, probability - 1.0\n",
      "Result: label - not, probability - 1.0\n",
      "Result: label - not, probability - 1.0\n",
      "Result: label - not, probability - 1.0\n",
      "Result: label - not, probability - 1.0\n",
      "Result: label - not, probability - 1.0\n",
      "Result: label - not, probability - 1.0\n",
      "Result: label - not, probability - 1.0\n",
      "Result: label - not, probability - 1.0\n",
      "Result: label - not, probability - 1.0\n",
      "Result: label - not, probability - 1.0\n",
      "Result: label - not, probability - 1.0\n",
      "Result: label - not, probability - 1.0\n",
      "Result: label - not, probability - 1.0\n",
      "Result: label - not, probability - 1.0\n",
      "Result: label - not, probability - 1.0\n",
      "Result: label - not, probability - 1.0\n",
      "Result: label - not, probability - 1.0\n",
      "Result: label - not, probability - 1.0\n",
      "Result: label - not, probability - 1.0\n",
      "Result: label - not, probability - 1.0\n",
      "Result: label - not, probability - 1.0\n",
      "Result: label - not, probability - 1.0\n",
      "Result: label - not, probability - 1.0\n",
      "Result: label - not, probability - 1.0\n",
      "Result: label - not, probability - 1.0\n",
      "Result: label - not, probability - 1.0\n",
      "Result: label - not, probability - 1.0\n",
      "Result: label - not, probability - 1.0\n",
      "Result: label - not, probability - 1.0\n",
      "Result: label - not, probability - 1.0\n",
      "Result: label - not, probability - 1.0\n",
      "Result: label - not, probability - 1.0\n",
      "Result: label - not, probability - 1.0\n",
      "Result: label - not, probability - 1.0\n",
      "Result: label - not, probability - 1.0\n",
      "Result: label - not, probability - 1.0\n",
      "Result: label - not, probability - 1.0\n",
      "Result: label - not, probability - 1.0\n",
      "Result: label - not, probability - 1.0\n",
      "Result: label - not, probability - 1.0\n",
      "Result: label - not, probability - 1.0\n",
      "Result: label - not, probability - 1.0\n",
      "Result: label - not, probability - 1.0\n",
      "Result: label - not, probability - 1.0\n",
      "Result: label - not, probability - 1.0\n",
      "Result: label - not, probability - 1.0\n",
      "Result: label - not, probability - 1.0\n",
      "Result: label - not, probability - 1.0\n",
      "Result: label - not, probability - 1.0\n",
      "Result: label - not, probability - 1.0\n",
      "Result: label - not, probability - 1.0\n",
      "Result: label - not, probability - 1.0\n",
      "Result: label - not, probability - 1.0\n",
      "Result: label - not, probability - 1.0\n",
      "Result: label - not, probability - 1.0\n",
      "Result: label - not, probability - 1.0\n",
      "Result: label - not, probability - 1.0\n",
      "Result: label - not, probability - 1.0\n",
      "Result: label - not, probability - 1.0\n",
      "Result: label - not, probability - 1.0\n",
      "Result: label - not, probability - 1.0\n",
      "Result: label - not, probability - 1.0\n",
      "Result: label - not, probability - 1.0\n",
      "Result: label - not, probability - 1.0\n",
      "Result: label - not, probability - 1.0\n",
      "Result: label - not, probability - 1.0\n",
      "Result: label - not, probability - 1.0\n",
      "Result: label - not, probability - 1.0\n",
      "Result: label - not, probability - 1.0\n"
     ]
    },
    {
     "name": "stdout",
     "output_type": "stream",
     "text": [
      "Result: label - not, probability - 1.0\n",
      "Result: label - not, probability - 1.0\n",
      "Result: label - not, probability - 1.0\n",
      "Result: label - not, probability - 1.0\n",
      "Result: label - not, probability - 1.0\n",
      "Result: label - not, probability - 1.0\n",
      "Result: label - not, probability - 1.0\n",
      "Result: label - not, probability - 1.0\n",
      "Result: label - not, probability - 1.0\n",
      "Result: label - not, probability - 1.0\n",
      "Result: label - not, probability - 1.0\n",
      "Result: label - not, probability - 1.0\n",
      "Result: label - not, probability - 1.0\n",
      "Result: label - not, probability - 1.0\n",
      "Result: label - not, probability - 1.0\n",
      "Result: label - not, probability - 1.0\n",
      "Result: label - not, probability - 1.0\n",
      "Result: label - not, probability - 1.0\n",
      "Result: label - not, probability - 1.0\n",
      "Result: label - not, probability - 1.0\n",
      "Result: label - not, probability - 1.0\n",
      "Result: label - not, probability - 1.0\n",
      "Result: label - not, probability - 1.0\n",
      "Result: label - not, probability - 1.0\n",
      "Result: label - not, probability - 1.0\n",
      "Result: label - not, probability - 1.0\n",
      "Result: label - not, probability - 1.0\n",
      "Result: label - not, probability - 1.0\n",
      "Result: label - not, probability - 1.0\n",
      "Result: label - not, probability - 1.0\n",
      "Result: label - not, probability - 1.0\n",
      "Result: label - not, probability - 1.0\n",
      "Result: label - not, probability - 1.0\n",
      "Result: label - not, probability - 1.0\n",
      "Result: label - not, probability - 1.0\n",
      "Result: label - not, probability - 1.0\n",
      "Result: label - not, probability - 1.0\n",
      "Result: label - not, probability - 1.0\n",
      "Result: label - not, probability - 1.0\n",
      "Result: label - not, probability - 1.0\n",
      "Result: label - not, probability - 1.0\n",
      "Result: label - not, probability - 1.0\n",
      "Result: label - not, probability - 1.0\n",
      "Result: label - not, probability - 1.0\n",
      "Result: label - not, probability - 1.0\n",
      "Result: label - not, probability - 1.0\n",
      "Result: label - not, probability - 1.0\n",
      "Result: label - not, probability - 1.0\n",
      "Result: label - not, probability - 1.0\n",
      "Result: label - not, probability - 1.0\n",
      "Result: label - not, probability - 1.0\n",
      "Result: label - not, probability - 1.0\n",
      "Result: label - not, probability - 1.0\n",
      "Result: label - not, probability - 1.0\n",
      "Result: label - not, probability - 1.0\n",
      "Result: label - not, probability - 1.0\n",
      "Result: label - not, probability - 1.0\n",
      "Result: label - not, probability - 1.0\n",
      "Result: label - not, probability - 1.0\n",
      "Result: label - not, probability - 1.0\n",
      "Result: label - not, probability - 1.0\n",
      "Result: label - not, probability - 1.0\n",
      "Result: label - not, probability - 1.0\n",
      "Result: label - not, probability - 1.0\n",
      "Result: label - not, probability - 1.0\n",
      "Result: label - not, probability - 1.0\n",
      "Result: label - not, probability - 1.0\n",
      "Result: label - not, probability - 1.0\n",
      "Result: label - not, probability - 1.0\n",
      "Result: label - not, probability - 1.0\n",
      "Result: label - not, probability - 1.0\n",
      "Result: label - not, probability - 1.0\n",
      "Result: label - not, probability - 1.0\n",
      "Result: label - not, probability - 1.0\n",
      "Result: label - not, probability - 1.0\n",
      "Result: label - not, probability - 1.0\n",
      "Result: label - not, probability - 1.0\n",
      "Result: label - not, probability - 1.0\n",
      "Result: label - not, probability - 1.0\n",
      "Result: label - not, probability - 1.0\n",
      "Result: label - not, probability - 1.0\n",
      "Result: label - not, probability - 1.0\n",
      "Result: label - not, probability - 1.0\n",
      "Result: label - not, probability - 1.0\n",
      "Result: label - not, probability - 1.0\n",
      "Result: label - not, probability - 1.0\n",
      "Result: label - not, probability - 1.0\n",
      "Result: label - not, probability - 1.0\n",
      "Result: label - not, probability - 1.0\n",
      "Result: label - not, probability - 1.0\n",
      "Result: label - not, probability - 1.0\n",
      "Result: label - not, probability - 1.0\n",
      "Result: label - not, probability - 1.0\n",
      "Result: label - not, probability - 1.0\n",
      "Result: label - not, probability - 1.0\n",
      "Result: label - not, probability - 1.0\n",
      "Result: label - not, probability - 1.0\n",
      "Result: label - not, probability - 1.0\n",
      "Result: label - not, probability - 1.0\n",
      "Result: label - not, probability - 1.0\n",
      "Result: label - not, probability - 1.0\n",
      "Result: label - not, probability - 1.0\n",
      "Result: label - not, probability - 1.0\n",
      "Result: label - not, probability - 1.0\n",
      "Result: label - not, probability - 1.0\n",
      "Result: label - not, probability - 1.0\n",
      "Result: label - not, probability - 1.0\n",
      "Result: label - not, probability - 1.0\n",
      "Result: label - not, probability - 1.0\n",
      "Result: label - not, probability - 1.0\n",
      "Result: label - not, probability - 1.0\n",
      "Result: label - not, probability - 1.0\n",
      "Result: label - not, probability - 1.0\n",
      "Result: label - not, probability - 1.0\n",
      "Result: label - not, probability - 1.0\n",
      "Result: label - not, probability - 1.0\n",
      "Result: label - not, probability - 1.0\n",
      "Result: label - not, probability - 1.0\n",
      "Result: label - not, probability - 1.0\n",
      "Result: label - not, probability - 1.0\n",
      "Result: label - not, probability - 1.0\n",
      "Result: label - not, probability - 1.0\n",
      "Result: label - not, probability - 1.0\n",
      "Result: label - not, probability - 1.0\n",
      "Result: label - not, probability - 1.0\n",
      "Result: label - not, probability - 1.0\n",
      "Result: label - not, probability - 1.0\n",
      "Result: label - not, probability - 1.0\n",
      "Result: label - not, probability - 1.0\n",
      "Result: label - not, probability - 1.0\n",
      "Result: label - not, probability - 1.0\n",
      "Result: label - not, probability - 1.0\n",
      "Result: label - not, probability - 1.0\n",
      "Result: label - not, probability - 1.0\n",
      "Result: label - not, probability - 1.0\n",
      "Result: label - not, probability - 1.0\n",
      "Result: label - not, probability - 1.0\n",
      "Result: label - not, probability - 1.0\n",
      "Result: label - not, probability - 1.0\n",
      "Result: label - not, probability - 1.0\n",
      "Result: label - not, probability - 1.0\n",
      "Result: label - not, probability - 1.0\n",
      "Result: label - not, probability - 1.0\n",
      "Result: label - not, probability - 1.0\n",
      "Result: label - not, probability - 1.0\n",
      "Result: label - not, probability - 1.0\n",
      "Result: label - not, probability - 1.0\n",
      "Result: label - not, probability - 1.0\n",
      "Result: label - not, probability - 1.0\n",
      "Result: label - not, probability - 1.0\n",
      "Result: label - not, probability - 1.0\n",
      "Result: label - not, probability - 1.0\n",
      "Result: label - not, probability - 1.0\n",
      "Result: label - not, probability - 1.0\n",
      "Result: label - not, probability - 1.0\n",
      "Result: label - not, probability - 1.0\n",
      "Result: label - not, probability - 1.0\n",
      "Result: label - not, probability - 1.0\n",
      "Result: label - not, probability - 1.0\n",
      "Result: label - not, probability - 1.0\n",
      "Result: label - not, probability - 1.0\n",
      "Result: label - not, probability - 1.0\n",
      "Result: label - not, probability - 1.0\n",
      "Result: label - not, probability - 1.0\n",
      "Result: label - not, probability - 1.0\n",
      "Result: label - not, probability - 1.0\n",
      "Result: label - not, probability - 1.0\n",
      "Result: label - not, probability - 1.0\n",
      "Result: label - not, probability - 1.0\n",
      "Result: label - not, probability - 1.0\n",
      "Result: label - not, probability - 1.0\n",
      "Result: label - not, probability - 1.0\n",
      "Result: label - not, probability - 1.0\n",
      "Result: label - not, probability - 1.0\n",
      "Result: label - not, probability - 1.0\n",
      "Result: label - not, probability - 1.0\n",
      "Result: label - not, probability - 1.0\n",
      "Result: label - not, probability - 1.0\n",
      "Result: label - not, probability - 1.0\n",
      "Result: label - not, probability - 1.0\n",
      "Result: label - not, probability - 1.0\n",
      "Result: label - not, probability - 1.0\n",
      "Result: label - not, probability - 1.0\n",
      "Result: label - not, probability - 1.0\n",
      "Result: label - not, probability - 1.0\n",
      "Result: label - not, probability - 1.0\n",
      "Result: label - not, probability - 1.0\n",
      "Result: label - not, probability - 1.0\n"
     ]
    }
   ],
   "source": [
    "import json\n",
    "import numpy as np\n",
    "for i in range(400):\n",
    "    file_name = \"img/a\"+str(i)+\".jpg\"\n",
    "    with open(file_name, 'rb') as f:\n",
    "        payload = f.read()\n",
    "        payload = bytearray(payload)\n",
    "    response = runtime.invoke_endpoint(EndpointName=endpoint_name, \n",
    "                                       ContentType='application/x-image', \n",
    "                                       Body=payload)\n",
    "    result = response['Body'].read()\n",
    "    # result will be in json format and convert it to ndarray\n",
    "    result = json.loads(result)\n",
    "    # the result will output the probabilities for all classes\n",
    "    # find the class with maximum probability and print the class index\n",
    "    index = np.argmax(result)\n",
    "    object_categories = ['jar', 'not']\n",
    "    print(\"Result: label - \" + object_categories[index] + \", probability - \" + str(result[index]))"
   ]
  },
  {
   "cell_type": "markdown",
   "metadata": {},
   "source": [
    "#### Clean up\n",
    "\n",
    "When we're done with the endpoint, we can just delete it and the backing instances will be released.  Run the following cell to delete the endpoint."
   ]
  },
  {
   "cell_type": "code",
   "execution_count": null,
   "metadata": {
    "collapsed": true
   },
   "outputs": [],
   "source": [
    "sage.delete_endpoint(EndpointName=endpoint_name)"
   ]
  },
  {
   "cell_type": "code",
   "execution_count": null,
   "metadata": {
    "collapsed": true
   },
   "outputs": [],
   "source": []
  }
 ],
 "metadata": {
  "kernelspec": {
   "display_name": "conda_mxnet_p36",
   "language": "python",
   "name": "conda_mxnet_p36"
  },
  "language_info": {
   "codemirror_mode": {
    "name": "ipython",
    "version": 3
   },
   "file_extension": ".py",
   "mimetype": "text/x-python",
   "name": "python",
   "nbconvert_exporter": "python",
   "pygments_lexer": "ipython3",
   "version": "3.6.5"
  }
 },
 "nbformat": 4,
 "nbformat_minor": 2
}
